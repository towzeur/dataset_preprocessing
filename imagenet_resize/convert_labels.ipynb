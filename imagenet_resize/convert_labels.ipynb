{
 "cells": [
  {
   "cell_type": "code",
   "execution_count": 6,
   "metadata": {},
   "outputs": [
    {
     "name": "stdout",
     "output_type": "stream",
     "text": [
      "--2023-03-15 11:58:53--  https://raw.githubusercontent.com/anishathalye/imagenet-simple-labels/master/imagenet-simple-labels.json\n",
      "Resolving raw.githubusercontent.com (raw.githubusercontent.com)... 185.199.110.133, 185.199.108.133, 185.199.111.133, ...\n",
      "Connecting to raw.githubusercontent.com (raw.githubusercontent.com)|185.199.110.133|:443... connected.\n",
      "HTTP request sent, awaiting response... 200 OK\n",
      "Length: 14193 (14K) [text/plain]\n",
      "Saving to: ‘imagenet-simple-labels.json’\n",
      "\n",
      "imagenet-simple-lab 100%[===================>]  13.86K  --.-KB/s    in 0.001s  \n",
      "\n",
      "2023-03-15 11:58:56 (12.3 MB/s) - ‘imagenet-simple-labels.json’ saved [14193/14193]\n",
      "\n",
      "--2023-03-15 11:58:57--  https://raw.githubusercontent.com/PatrykChrabaszcz/Imagenet32_Scripts/master/map_clsloc.txt\n",
      "Resolving raw.githubusercontent.com (raw.githubusercontent.com)... 185.199.111.133, 185.199.108.133, 185.199.110.133, ...\n",
      "Connecting to raw.githubusercontent.com (raw.githubusercontent.com)|185.199.111.133|:443... connected.\n",
      "HTTP request sent, awaiting response... 200 OK\n",
      "Length: 24366 (24K) [text/plain]\n",
      "Saving to: ‘map_clsloc.txt.1’\n",
      "\n",
      "map_clsloc.txt.1    100%[===================>]  23.79K  --.-KB/s    in 0.002s  \n",
      "\n",
      "2023-03-15 11:59:00 (9.65 MB/s) - ‘map_clsloc.txt.1’ saved [24366/24366]\n",
      "\n"
     ]
    }
   ],
   "source": [
    "# simple labels\n",
    "!wget https://raw.githubusercontent.com/anishathalye/imagenet-simple-labels/master/imagenet-simple-labels.json\n",
    "\n",
    "# ImageNet32 (resized) unofficial labels\n",
    "!wget https://raw.githubusercontent.com/PatrykChrabaszcz/Imagenet32_Scripts/master/map_clsloc.txt"
   ]
  },
  {
   "attachments": {},
   "cell_type": "markdown",
   "metadata": {},
   "source": [
    "create a dict of key syn and official index, unofficual (resize dataset) and labels"
   ]
  },
  {
   "cell_type": "code",
   "execution_count": 7,
   "metadata": {},
   "outputs": [],
   "source": [
    "from pandas import pandas as pd\n",
    "import json\n",
    "\n",
    "with open('imagenet-simple-labels.json') as f:\n",
    "    labels = json.load(f)\n",
    "\n",
    "\n",
    "synset_dict = {}\n",
    "# create unnoficial dictionary\n",
    "with open(\"map_clsloc.txt\") as f:\n",
    "    ulines = f.readlines()\n",
    "    # sync, unoffical, \n",
    "    synset_dict = {}\n",
    "    for uline in ulines:\n",
    "        if not uline.strip():\n",
    "            continue\n",
    "        syn, unoff_i, label_u = uline.strip().split(' ')\n",
    "        unoff_i = int(unoff_i)\n",
    "        synset_dict[syn] = {\n",
    "            'index_unoff': unoff_i-1,\n",
    "            'label_concise': label_u,\n",
    "        }\n",
    "\n",
    "with open(\"LOC_synset_mapping.txt\") as f:\n",
    "    lines = f.readlines()\n",
    "    lines = [line.strip().split(' ', 1) for line in lines if line.strip()]\n",
    "\n",
    "\n",
    "for i in range(len(lines)):\n",
    "    syn, text = lines[i]\n",
    "    synset_dict[syn].update({\n",
    "        'index': i,\n",
    "        'label': text,\n",
    "        'label_simple': labels[i]\n",
    "    })\n",
    "\n",
    "\n",
    "synset_dict \n",
    "\n",
    "# save to json\n",
    "with open('imagenet_synset.json', 'w') as f:\n",
    "    json.dump(synset_dict, f)\n",
    "\n"
   ]
  },
  {
   "attachments": {},
   "cell_type": "markdown",
   "metadata": {},
   "source": [
    "# (imagenet_synset) syn: meta to order by index list json (imagenet_synset_list)"
   ]
  },
  {
   "cell_type": "code",
   "execution_count": 8,
   "metadata": {},
   "outputs": [],
   "source": [
    "import json\n",
    "\n",
    "# load imagenet_labels.json\n",
    "with open('imagenet_synset.json') as f:\n",
    "    synset_dict = json.load(f)\n",
    "\n",
    "\n",
    "synset_list = [None for _ in range(1000)]\n",
    "for k, v in synset_dict.items():\n",
    "    synset_list[v['index']] = {**v, 'id': k}\n",
    "\n",
    "synset_list[:5]\n",
    "\n",
    "# save to imagenet_meta.json\n",
    "with open('imagenet_synset_list.json', 'w') as f:\n",
    "    json.dump(synset_list, f, indent=2)\n",
    "    "
   ]
  },
  {
   "cell_type": "code",
   "execution_count": null,
   "metadata": {},
   "outputs": [],
   "source": []
  }
 ],
 "metadata": {
  "kernelspec": {
   "display_name": "ood",
   "language": "python",
   "name": "python3"
  },
  "language_info": {
   "codemirror_mode": {
    "name": "ipython",
    "version": 3
   },
   "file_extension": ".py",
   "mimetype": "text/x-python",
   "name": "python",
   "nbconvert_exporter": "python",
   "pygments_lexer": "ipython3",
   "version": "3.10.9"
  },
  "orig_nbformat": 4,
  "vscode": {
   "interpreter": {
    "hash": "301fcbf29af1acbf7cb2642c6bf7aa006dfae79bab4263d48f7de7a5631d9d91"
   }
  }
 },
 "nbformat": 4,
 "nbformat_minor": 2
}
